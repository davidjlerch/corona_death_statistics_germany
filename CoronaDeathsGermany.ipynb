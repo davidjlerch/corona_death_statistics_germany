{
 "cells": [
  {
   "cell_type": "code",
   "execution_count": null,
   "id": "unlikely-persian",
   "metadata": {},
   "outputs": [],
   "source": [
    "import csv\n",
    "import matplotlib.pyplot as plt\n",
    "\n",
    "with open(\"CoronaDeathsGermany.csv\", \"r\") as csv_file:\n",
    "    data_reader = csv.reader(csv_file, delimiter=\";\")\n",
    "    data_dict = {}\n",
    "    for row in data_reader:\n",
    "        data_dict[row[0]] = []\n",
    "        data = []\n",
    "        for dat in row:\n",
    "            if len(dat.split(\".\")) > 2:\n",
    "                data.append(dat)\n",
    "            try:\n",
    "                data.append(float(dat))\n",
    "            except ValueError:\n",
    "                pass\n",
    "        data_dict[row[0]] = data\n",
    "\n",
    "fig, ax = plt.subplots()\n",
    "plt.plot(data_dict[\"Date\"][1:], data_dict[\"Deaths 2020\"][1:])\n",
    "plt.plot(data_dict[\"Date\"][1:], data_dict[\"Diff Excess Mortality per Day 2020/21\"])\n",
    "plt.plot(data_dict[\"Date\"][1:], data_dict[\"Curv Corona Deaths 2020/21\"])\n",
    "\n",
    "i = 0\n",
    "for label in ax.xaxis.get_ticklabels():\n",
    "    if i % 50 == 0:\n",
    "        label.set_visible(True)\n",
    "    else:\n",
    "        label.set_visible(False)\n",
    "    i += 1\n",
    "plt.show()"
   ]
  }
 ],
 "metadata": {
  "kernelspec": {
   "display_name": "Python 3",
   "language": "python",
   "name": "python3"
  }
 },
 "nbformat": 4,
 "nbformat_minor": 5
}
